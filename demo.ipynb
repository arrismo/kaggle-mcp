{
 "cells": [
  {
   "cell_type": "markdown",
   "metadata": {},
   "source": [
    "# Kaggle MCP Server Demo\n",
    "This notebook demonstrates how to use the Kaggle MCP Server to interact with Kaggle datasets"
   ]
  },
  {
   "cell_type": "code",
   "execution_count": 1,
   "metadata": {},
   "outputs": [
    {
     "data": {
      "application/vnd.jupyter.widget-view+json": {
       "model_id": "1f97d30034804413b3d47e3c3403c7b1",
       "version_major": 2,
       "version_minor": 0
      },
      "text/plain": [
       "Tab(children=(VBox(children=(Text(value='', description='Query:', placeholder='Enter search terms'), Button(de…"
      ]
     },
     "metadata": {},
     "output_type": "display_data"
    }
   ],
   "source": [
    "# Import the Kaggle MCP Notebook interface\n",
    "\n",
    "from kaggle_mcp_notebook import KaggleMCPNotebook\n",
    "# Initialize the notebook interface\n",
    "kaggle_mcp = KaggleMCPNotebook()"
   ]
  },
  {
   "cell_type": "markdown",
   "metadata": {},
   "source": [
    "## Direct Client Usage\n",
    "You can also use the client directly for programmatic access:"
   ]
  },
  {
   "cell_type": "code",
   "execution_count": null,
   "metadata": {},
   "outputs": [],
   "source": [
    "from client import KaggleMCPClient\n",
    "import pandas as pd\n",
    "import json\n",
    "\n",
    "# Initialize the client\n",
    "client = KaggleMCPClient()\n",
    "\n",
    "# Search for datasets\n",
    "search_results = client.search_datasets(\"covid\")\n",
    "print(json.dumps(search_results, indent=2))"
   ]
  },
  {
   "cell_type": "code",
   "execution_count": null,
   "metadata": {},
   "outputs": [],
   "source": []
  }
 ],
 "metadata": {
  "kernelspec": {
   "display_name": "Python 3 (ipykernel)",
   "language": "python",
   "name": "python3"
  },
  "language_info": {
   "codemirror_mode": {
    "name": "ipython",
    "version": 3
   },
   "file_extension": ".py",
   "mimetype": "text/x-python",
   "name": "python",
   "nbconvert_exporter": "python",
   "pygments_lexer": "ipython3",
   "version": "3.10.11"
  }
 },
 "nbformat": 4,
 "nbformat_minor": 4
}
