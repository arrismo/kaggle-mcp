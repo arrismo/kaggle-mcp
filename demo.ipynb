{
 "cells": [
  {
   "cell_type": "markdown",
   "metadata": {},
   "source": [
    "# Kaggle MCP Server Demo\n",
    "This notebook demonstrates how to use the Kaggle MCP Server to interact with Kaggle datasets and competitions."
   ]
  },
  {
   "cell_type": "code",
   "execution_count": null,
   "metadata": {},
   "outputs": [],
   "source": [
    "# Import the Kaggle MCP Notebook interface\n",
    "\n",
    "from kaggle_mcp_notebook import KaggleMCPNotebook\n",
    "# Initialize the notebook interface\n",
    "kaggle_mcp = KaggleMCPNotebook()"
   ]
  },
  {
   "cell_type": "markdown",
   "metadata": {},
   "source": [
    "## Direct Client Usage\n",
    "You can also use the client directly for programmatic access:"
   ]
  },
  {
   "cell_type": "code",
   "execution_count": null,
   "metadata": {},
   "outputs": [],
   "source": [
    "from client import KaggleMCPClient\n",
    "import pandas as pd\n",
    "import json\n",
    "\n",
    "# Initialize the client\n",
    "client = KaggleMCPClient()\n",
    "\n",
    "# Search for datasets\n",
    "search_results = client.search_datasets(\"covid\")\n",
    "print(json.dumps(search_results, indent=2))"
   ]
  },
  {
   "cell_type": "code",
   "execution_count": null,
   "metadata": {},
   "outputs": [],
   "source": [
    " # Get dataset info with sample data\n",
    "dataset_info = client.get_dataset_info(\"rohanrao/formula-1-world-championship-1950-2020\", include_sample=True)\n",
    " \n",
    "# Convert sample data to DataFrame\\n\",\n",
    "if \"sample_data\" in dataset_info[\"message\"][\"context\"]:\n",
    "        sample_df = pd.DataFrame(dataset_info[\"message\"][\"context\"][\"sample_data\"]),\n",
    "        display(sample_df)"
   ]
  }
 ],
 "metadata": {
  "kernelspec": {
   "display_name": "venv",
   "language": "python",
   "name": "python3"
  },
  "language_info": {
   "codemirror_mode": {
    "name": "ipython",
    "version": 3
   },
   "file_extension": ".py",
   "mimetype": "text/x-python",
   "name": "python",
   "nbconvert_exporter": "python",
   "pygments_lexer": "ipython3",
   "version": "3.10.11"
  }
 },
 "nbformat": 4,
 "nbformat_minor": 2
}
